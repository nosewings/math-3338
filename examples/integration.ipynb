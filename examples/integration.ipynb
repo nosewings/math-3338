{
 "cells": [
  {
   "cell_type": "code",
   "execution_count": 1,
   "metadata": {},
   "outputs": [],
   "source": [
    "import numpy as np\n",
    "import scipy.integrate\n",
    "import matplotlib.pyplot as plt"
   ]
  },
  {
   "cell_type": "markdown",
   "metadata": {},
   "source": [
    "Some notes.\n",
    "\n",
    "* `enumerate` and `zip` are both \"iteration tools\"; i.e., they transform an\n",
    "  iterable object (something that can be used in a for-loop) in some way.\n",
    "* `enumerate` takes an iterable object and lets you iterate over both that\n",
    "  object and its indices; i.e., `enumerate(x)` iterates over both\n",
    "  `range(len(x))` and `x` itself. When iterating, the index comes first. Passing\n",
    "  a second argument to `enumerate` changes the starting index; e.g.,\n",
    "  `enumerate(x, 1)` iterates over both `x` and `range(1, len(x) + 1)`.\n",
    "* `zip` iterates over two (or more) sequences simultataneously. It is actually a\n",
    "  strict generalization of `enumerate`, since you could write `enumerate(x)` as\n",
    "  `zip(range(len(x)), x)`.\n",
    "* `t[:-1]` includes all but the last element of `t`, while `t[1:]` includes all\n",
    "  but the first element. That is,\n",
    "  ```\n",
    "  t[:-1] = t[0], t[1], t[2], ..., t[-2]\n",
    "  t[1:]  = t[1], t[2], t[3], ..., t[-1]\n",
    "  ```\n",
    "  Iterating over these two sequences simultataneously, we obtain pairs of\n",
    "  adjacent values.\n",
    "* Functions passed to `odeint` need to be in the form `f(y, t) = ...`, so I also\n",
    "  wrote `euler` and `heun` under that assumption."
   ]
  },
  {
   "cell_type": "code",
   "execution_count": 2,
   "metadata": {},
   "outputs": [],
   "source": [
    "def euler(f, y0, t):\n",
    "    # Turn `y0` into an array if it's a scalar. Why? So that we always return\n",
    "    # the same shape as `odeint`.\n",
    "    y0 = np.atleast_1d(y0)\n",
    "    ys = np.empty([len(t), *np.shape(y0)])\n",
    "    ys[0] = y0\n",
    "    y = y0\n",
    "    for (i, (t0, t1)) in enumerate(zip(t[:-1], t[1:]), 1):\n",
    "        dt = t1 - t0\n",
    "        y += dt*f(y, t0)\n",
    "        ys[i] = y\n",
    "    return ys"
   ]
  },
  {
   "cell_type": "code",
   "execution_count": 11,
   "metadata": {},
   "outputs": [
    {
     "data": {
      "text/plain": [
       "array([0. , 0.1, 0.2, 0.3, 0.4, 0.5, 0.6, 0.7, 0.8, 0.9, 1. ])"
      ]
     },
     "execution_count": 11,
     "metadata": {},
     "output_type": "execute_result"
    }
   ],
   "source": [
    "def g(y, t):\n",
    "    return y - t\n",
    "y0 = 0.5\n",
    "t = np.linspace(0.0, 1.0, 11)\n",
    "t"
   ]
  },
  {
   "cell_type": "code",
   "execution_count": 12,
   "metadata": {},
   "outputs": [
    {
     "data": {
      "text/plain": [
       "array([[0.5       ],\n",
       "       [0.55      ],\n",
       "       [0.595     ],\n",
       "       [0.6345    ],\n",
       "       [0.66795   ],\n",
       "       [0.694745  ],\n",
       "       [0.7142195 ],\n",
       "       [0.72564145],\n",
       "       [0.7282056 ],\n",
       "       [0.72102615],\n",
       "       [0.70312877]])"
      ]
     },
     "execution_count": 12,
     "metadata": {},
     "output_type": "execute_result"
    }
   ],
   "source": [
    "euler_result = euler(g, y0, t)\n",
    "euler_result"
   ]
  },
  {
   "cell_type": "code",
   "execution_count": 5,
   "metadata": {},
   "outputs": [],
   "source": [
    "def heun(f, y0, t):\n",
    "    y0 = np.atleast_1d(y0)\n",
    "    ys = np.empty([len(t), *np.shape(y0)])\n",
    "    ys[0] = y0\n",
    "    y = y0\n",
    "    for (i, (t0, t1)) in enumerate(zip(t[:-1], t[1:]), 1):\n",
    "        dt = t1 - t0\n",
    "        # Avoid computing this twice.\n",
    "        f_y_t0 = f(y, t0)\n",
    "        # Prediction.\n",
    "        y_ = y + dt*f_y_t0\n",
    "        # Correction.\n",
    "        y = y + dt*(f_y_t0 + f(y_, t1))/2.0\n",
    "        ys[i] = y\n",
    "    return ys"
   ]
  },
  {
   "cell_type": "code",
   "execution_count": 13,
   "metadata": {},
   "outputs": [
    {
     "data": {
      "text/plain": [
       "array([[0.5       ],\n",
       "       [0.5475    ],\n",
       "       [0.5894875 ],\n",
       "       [0.62538369],\n",
       "       [0.65454897],\n",
       "       [0.67627662],\n",
       "       [0.68978566],\n",
       "       [0.69421316],\n",
       "       [0.68860554],\n",
       "       [0.67190912],\n",
       "       [0.64295958]])"
      ]
     },
     "execution_count": 13,
     "metadata": {},
     "output_type": "execute_result"
    }
   ],
   "source": [
    "heun_result = heun(g, y0, t)\n",
    "heun_result"
   ]
  },
  {
   "cell_type": "code",
   "execution_count": 14,
   "metadata": {},
   "outputs": [
    {
     "data": {
      "text/plain": [
       "array([[0.5       ],\n",
       "       [0.54741454],\n",
       "       [0.58929863],\n",
       "       [0.6250706 ],\n",
       "       [0.65408765],\n",
       "       [0.67563937],\n",
       "       [0.6889406 ],\n",
       "       [0.69312364],\n",
       "       [0.68722949],\n",
       "       [0.67019838],\n",
       "       [0.64085904]])"
      ]
     },
     "execution_count": 14,
     "metadata": {},
     "output_type": "execute_result"
    }
   ],
   "source": [
    "odeint_result = scipy.integrate.odeint(g, y0, t)\n",
    "odeint_result"
   ]
  },
  {
   "cell_type": "code",
   "execution_count": 8,
   "metadata": {},
   "outputs": [],
   "source": [
    "def f(t):\n",
    "    return t - np.exp(t)/2.0 + 1"
   ]
  },
  {
   "cell_type": "code",
   "execution_count": 20,
   "metadata": {},
   "outputs": [
    {
     "data": {
      "text/plain": [
       "array([[0.5       ],\n",
       "       [0.54741454],\n",
       "       [0.58929862],\n",
       "       [0.6250706 ],\n",
       "       [0.65408765],\n",
       "       [0.67563936],\n",
       "       [0.6889406 ],\n",
       "       [0.69312365],\n",
       "       [0.68722954],\n",
       "       [0.67019844],\n",
       "       [0.64085909]])"
      ]
     },
     "execution_count": 20,
     "metadata": {},
     "output_type": "execute_result"
    }
   ],
   "source": [
    "exact_result = f(t)[:, np.newaxis]\n",
    "exact_result"
   ]
  },
  {
   "cell_type": "code",
   "execution_count": 21,
   "metadata": {},
   "outputs": [
    {
     "data": {
      "text/plain": [
       "<matplotlib.legend.Legend at 0x7f81108f4ef0>"
      ]
     },
     "execution_count": 21,
     "metadata": {},
     "output_type": "execute_result"
    },
    {
     "data": {
      "image/png": "[encoded data removed]",
      "text/plain": [
       "<Figure size 432x288 with 1 Axes>"
      ]
     },
     "metadata": {
      "needs_background": "light"
     },
     "output_type": "display_data"
    }
   ],
   "source": [
    "plt.plot(t, euler_result, label='Euler')\n",
    "plt.plot(t, heun_result, label='Heun')\n",
    "plt.plot(t, odeint_result, label='odeint')\n",
    "plt.plot(t, exact_result, '.', label='Exact')\n",
    "plt.legend()"
   ]
  },
  {
   "cell_type": "code",
   "execution_count": 22,
   "metadata": {},
   "outputs": [
    {
     "data": {
      "text/plain": [
       "array([[0.        ],\n",
       "       [0.00258546],\n",
       "       [0.00570138],\n",
       "       [0.0094294 ],\n",
       "       [0.01386235],\n",
       "       [0.01910564],\n",
       "       [0.0252789 ],\n",
       "       [0.0325178 ],\n",
       "       [0.04097606],\n",
       "       [0.05082771],\n",
       "       [0.06226968]])"
      ]
     },
     "execution_count": 22,
     "metadata": {},
     "output_type": "execute_result"
    }
   ],
   "source": [
    "euler_abs_error = np.abs(euler_result - exact_result)\n",
    "euler_abs_error"
   ]
  },
  {
   "cell_type": "code",
   "execution_count": 24,
   "metadata": {},
   "outputs": [
    {
     "data": {
      "text/plain": [
       "array([[0.00000000e+00],\n",
       "       [8.54590378e-05],\n",
       "       [1.88879080e-04],\n",
       "       [3.13091288e-04],\n",
       "       [4.61323508e-04],\n",
       "       [6.37252380e-04],\n",
       "       [8.45062013e-04],\n",
       "       [1.08951004e-03],\n",
       "       [1.37600197e-03],\n",
       "       [1.71067476e-03],\n",
       "       [2.10049093e-03]])"
      ]
     },
     "execution_count": 24,
     "metadata": {},
     "output_type": "execute_result"
    }
   ],
   "source": [
    "heun_abs_error = np.abs(heun_result - exact_result)\n",
    "heun_abs_error"
   ]
  },
  {
   "cell_type": "code",
   "execution_count": 25,
   "metadata": {},
   "outputs": [
    {
     "data": {
      "text/plain": [
       "array([[0.00000000e+00],\n",
       "       [3.41256123e-09],\n",
       "       [7.87640231e-09],\n",
       "       [3.90696586e-10],\n",
       "       [2.13044893e-09],\n",
       "       [2.60198063e-09],\n",
       "       [1.30583511e-09],\n",
       "       [6.04159012e-09],\n",
       "       [4.39993412e-08],\n",
       "       [6.05423948e-08],\n",
       "       [4.46658150e-08]])"
      ]
     },
     "execution_count": 25,
     "metadata": {},
     "output_type": "execute_result"
    }
   ],
   "source": [
    "odeint_abs_error = np.abs(odeint_result - exact_result)\n",
    "odeint_abs_error"
   ]
  },
  {
   "cell_type": "code",
   "execution_count": 33,
   "metadata": {},
   "outputs": [
    {
     "data": {
      "text/plain": [
       "array([[0.        ],\n",
       "       [0.00472304],\n",
       "       [0.00967486],\n",
       "       [0.01508534],\n",
       "       [0.02119341],\n",
       "       [0.02827786],\n",
       "       [0.03669242],\n",
       "       [0.04691487],\n",
       "       [0.059625  ],\n",
       "       [0.07583979],\n",
       "       [0.09716595]])"
      ]
     },
     "execution_count": 33,
     "metadata": {},
     "output_type": "execute_result"
    }
   ],
   "source": [
    "euler_rel_error = euler_abs_error / np.abs(exact_result)\n",
    "euler_rel_error"
   ]
  },
  {
   "cell_type": "code",
   "execution_count": 34,
   "metadata": {},
   "outputs": [
    {
     "data": {
      "text/plain": [
       "array([[0.        ],\n",
       "       [0.00015611],\n",
       "       [0.00032052],\n",
       "       [0.00050089],\n",
       "       [0.00070529],\n",
       "       [0.00094318],\n",
       "       [0.00122661],\n",
       "       [0.00157188],\n",
       "       [0.00200225],\n",
       "       [0.00255249],\n",
       "       [0.00327762]])"
      ]
     },
     "execution_count": 34,
     "metadata": {},
     "output_type": "execute_result"
    }
   ],
   "source": [
    "heun_rel_error = heun_abs_error / np.abs(exact_result)\n",
    "heun_rel_error"
   ]
  },
  {
   "cell_type": "code",
   "execution_count": 35,
   "metadata": {},
   "outputs": [
    {
     "data": {
      "text/plain": [
       "array([[0.00000000e+00],\n",
       "       [6.23396161e-09],\n",
       "       [1.33657233e-08],\n",
       "       [6.25043937e-10],\n",
       "       [3.25713064e-09],\n",
       "       [3.85113830e-09],\n",
       "       [1.89542481e-09],\n",
       "       [8.71646805e-09],\n",
       "       [6.40242290e-08],\n",
       "       [9.03350273e-08],\n",
       "       [6.96967805e-08]])"
      ]
     },
     "execution_count": 35,
     "metadata": {},
     "output_type": "execute_result"
    }
   ],
   "source": [
    "odeint_rel_error = odeint_abs_error / np.abs(exact_result)\n",
    "odeint_rel_error"
   ]
  },
  {
   "cell_type": "code",
   "execution_count": 31,
   "metadata": {},
   "outputs": [
    {
     "data": {
      "text/plain": [
       "<matplotlib.legend.Legend at 0x7f8110859a58>"
      ]
     },
     "execution_count": 31,
     "metadata": {},
     "output_type": "execute_result"
    },
    {
     "data": {
      "image/png": "[encoded data removed]",
      "text/plain": [
       "<Figure size 432x288 with 1 Axes>"
      ]
     },
     "metadata": {
      "needs_background": "light"
     },
     "output_type": "display_data"
    }
   ],
   "source": [
    "plt.title('Absolute error')\n",
    "plt.plot(t, euler_abs_error, label='Euler')\n",
    "plt.plot(t, heun_abs_error, label='Heun')\n",
    "plt.plot(t, odeint_abs_error, label='odeint')\n",
    "plt.legend()"
   ]
  },
  {
   "cell_type": "code",
   "execution_count": 32,
   "metadata": {},
   "outputs": [
    {
     "data": {
      "text/plain": [
       "<matplotlib.legend.Legend at 0x7f81107cea58>"
      ]
     },
     "execution_count": 32,
     "metadata": {},
     "output_type": "execute_result"
    },
    {
     "data": {
      "image/png": "[encoded data removed]",
      "text/plain": [
       "<Figure size 432x288 with 1 Axes>"
      ]
     },
     "metadata": {
      "needs_background": "light"
     },
     "output_type": "display_data"
    }
   ],
   "source": [
    "plt.title('Relative error')\n",
    "plt.plot(t, euler_rel_error, label='Euler')\n",
    "plt.plot(t, heun_rel_error, label='Heun')\n",
    "plt.plot(t, odeint_rel_error, label='odeint')\n",
    "plt.legend()"
   ]
  }
 ],
 "metadata": {
  "kernelspec": {
   "display_name": "Python 3",
   "language": "python",
   "name": "python3"
  },
  "language_info": {
   "codemirror_mode": {
    "name": "ipython",
    "version": 3
   },
   "file_extension": ".py",
   "mimetype": "text/x-python",
   "name": "python",
   "nbconvert_exporter": "python",
   "pygments_lexer": "ipython3",
   "version": "3.7.3"
  }
 },
 "nbformat": 4,
 "nbformat_minor": 2
}
