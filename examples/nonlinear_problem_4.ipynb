{
 "cells": [
  {
   "cell_type": "code",
   "execution_count": 1,
   "metadata": {},
   "outputs": [],
   "source": [
    "import numpy as np\n",
    "from scipy.optimize import NonlinearConstraint, minimize\n",
    "import matplotlib.pyplot as plt"
   ]
  },
  {
   "cell_type": "code",
   "execution_count": 2,
   "metadata": {},
   "outputs": [],
   "source": [
    "from itertools import chain\n",
    "def flatten(xs):\n",
    "    '''Flatten a sequence of sequences.'''\n",
    "    return chain(*xs)"
   ]
  },
  {
   "cell_type": "code",
   "execution_count": 3,
   "metadata": {},
   "outputs": [],
   "source": [
    "def objective_function(x):\n",
    "    r, _, _ = x\n",
    "    return r"
   ]
  },
  {
   "cell_type": "code",
   "execution_count": 4,
   "metadata": {},
   "outputs": [],
   "source": [
    "def constraint_function(s, t, P):\n",
    "    '''Return the constraint function corresponding to a given sign, t, and P.'''\n",
    "    def ret(x):\n",
    "        r, a, b = x\n",
    "        return r + s*(P - a*np.exp(b*t))\n",
    "    return ret"
   ]
  },
  {
   "cell_type": "code",
   "execution_count": 5,
   "metadata": {},
   "outputs": [],
   "source": [
    "def constraint_pair(t, P):\n",
    "    '''Return a pair of constraints for a given t and P.'''\n",
    "    return (\n",
    "        NonlinearConstraint(\n",
    "            constraint_function(s, t, P), # constraint function\n",
    "            0.0, # lower bound\n",
    "            np.inf, # upper bound\n",
    "        )\n",
    "        for s in (-1, 1)\n",
    "    )"
   ]
  },
  {
   "cell_type": "code",
   "execution_count": 6,
   "metadata": {},
   "outputs": [],
   "source": [
    "data = np.array([\n",
    "    [7, 8],\n",
    "    [14, 41],\n",
    "    [21, 133],\n",
    "    [28, 250],\n",
    "    [35, 280],\n",
    "    [42, 297],\n",
    "])\n",
    "\n",
    "constraints = [constraint_pair(t, P) for (t, P) in data]\n",
    "constraints = flatten(constraints)"
   ]
  },
  {
   "cell_type": "code",
   "execution_count": 7,
   "metadata": {},
   "outputs": [
    {
     "name": "stderr",
     "output_type": "stream",
     "text": [
      "/home/ncoltharp/opt/anaconda3/envs/math_modeling/lib/python3.7/site-packages/scipy/optimize/_hessian_update_strategy.py:187: UserWarning: delta_grad == 0.0. Check if the approximated function is linear. If the function is linear better results can be obtained by defining the Hessian as zero instead of using quasi-Newton approximations.\n",
      "  'approximations.', UserWarning)\n"
     ]
    }
   ],
   "source": [
    "result = minimize(\n",
    "    objective_function,\n",
    "    [0, 0, 0], # initial guess (required)\n",
    "    method='trust-constr',\n",
    "    constraints=constraints,\n",
    ")"
   ]
  },
  {
   "cell_type": "code",
   "execution_count": 8,
   "metadata": {},
   "outputs": [
    {
     "name": "stdout",
     "output_type": "stream",
     "text": [
      "a: 50.943011703569056\n",
      "b: 0.04652764223061992\n"
     ]
    }
   ],
   "source": [
    "a = result.x[1]\n",
    "b = result.x[2]\n",
    "print('a:', a)\n",
    "print('b:', b)"
   ]
  },
  {
   "cell_type": "code",
   "execution_count": 9,
   "metadata": {},
   "outputs": [
    {
     "data": {
      "text/plain": [
       "[<matplotlib.lines.Line2D at 0x7ff5c3233450>]"
      ]
     },
     "execution_count": 9,
     "metadata": {},
     "output_type": "execute_result"
    },
    {
     "data": {
      "image/png": "[encoded data removed]",
      "text/plain": [
       "<Figure size 432x288 with 1 Axes>"
      ]
     },
     "metadata": {
      "needs_background": "light"
     },
     "output_type": "display_data"
    }
   ],
   "source": [
    "def P(t, a, b):\n",
    "    return a*np.exp(b*t)\n",
    "\n",
    "plt.scatter(data[:, 0], data[:, 1], c='red')\n",
    "xs = np.linspace(0, 50)\n",
    "plt.plot(xs, P(xs, a, b), c='blue')"
   ]
  }
 ],
 "metadata": {
  "kernelspec": {
   "display_name": "Python 3",
   "language": "python",
   "name": "python3"
  },
  "language_info": {
   "codemirror_mode": {
    "name": "ipython",
    "version": 3
   },
   "file_extension": ".py",
   "mimetype": "text/x-python",
   "name": "python",
   "nbconvert_exporter": "python",
   "pygments_lexer": "ipython3",
   "version": "3.7.4"
  }
 },
 "nbformat": 4,
 "nbformat_minor": 2
}
